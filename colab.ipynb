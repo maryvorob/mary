{
  "nbformat": 4,
  "nbformat_minor": 0,
  "metadata": {
    "colab": {
      "name": "colab.ipynb",
      "provenance": [],
      "collapsed_sections": [],
      "include_colab_link": true
    },
    "kernelspec": {
      "name": "python3",
      "display_name": "Python 3"
    }
  },
  "cells": [
    {
      "cell_type": "markdown",
      "metadata": {
        "id": "view-in-github",
        "colab_type": "text"
      },
      "source": [
        "<a href=\"https://colab.research.google.com/github/maryvorob/mary/blob/master/colab.ipynb\" target=\"_parent\"><img src=\"https://colab.research.google.com/assets/colab-badge.svg\" alt=\"Open In Colab\"/></a>"
      ]
    },
    {
      "cell_type": "code",
      "metadata": {
        "id": "7D3alATMAPMj",
        "colab_type": "code",
        "outputId": "1729c591-5690-46a9-e7f7-bc685644f436",
        "colab": {
          "base_uri": "https://localhost:8080/",
          "height": 381
        }
      },
      "source": [
        "import matplotlib.pyplot as plt\n",
        "import pandas as pd\n",
        "import seaborn as sns\n",
        "from matplotlib import style\n",
        "style.use('fivethirtyeight')\n",
        "\n",
        "\n",
        "def download_files(path='https://raw.githubusercontent.com/maryvorob/mary/master/',\n",
        "                   files=('checks', 'groups', 'active_studs')):\n",
        "    data = []\n",
        "    for f in files:\n",
        "        df = pd.read_csv(f'{path}/{f}.csv', sep=';') \n",
        "        print(f, '\\n', df.head())\n",
        "        data.append(df)\n",
        "    return data \n",
        "\n",
        "checks, groups, active_studs = download_files()"
      ],
      "execution_count": 0,
      "outputs": [
        {
          "output_type": "stream",
          "text": [
            "checks \n",
            "    student_id    rev\n",
            "0        1627  990.0\n",
            "1        3185  690.0\n",
            "2       25973  690.0\n",
            "3       26280  690.0\n",
            "4      100300  990.0\n",
            "groups \n",
            "         id grp\n",
            "0  1206794   B\n",
            "1   331024   B\n",
            "2  1733498   A\n",
            "3   161574   B\n",
            "4   168443   B\n",
            "active_studs \n",
            "    student_id\n",
            "0      581585\n",
            "1     5723133\n",
            "2     3276743\n",
            "3     4238589\n",
            "4     4475369\n"
          ],
          "name": "stdout"
        }
      ]
    },
    {
      "cell_type": "code",
      "metadata": {
        "id": "H_NCkF5ZAijX",
        "colab_type": "code",
        "outputId": "f671902d-ce27-46f1-ad77-29d90566c893",
        "colab": {
          "base_uri": "https://localhost:8080/",
          "height": 485
        }
      },
      "source": [
        "def join_data(checks, groups, active_studs):\n",
        "    return (groups.set_index('id')\n",
        "            .join(active_studs['student_id'].value_counts().rename('active'))\n",
        "            .join(checks.groupby('student_id')['rev'].agg(orders='count', rev='sum'))\n",
        "            )\n",
        "\n",
        "data = join_data(checks, groups, active_studs)\n",
        "data['users'] = 1\n",
        "print(data.head())\n",
        "print(data.groupby('grp').sum())\n",
        "data.describe()"
      ],
      "execution_count": 0,
      "outputs": [
        {
          "output_type": "stream",
          "text": [
            "        grp  active  orders  rev  users\n",
            "id                                     \n",
            "1206794   B     NaN     NaN  NaN      1\n",
            "331024    B     NaN     NaN  NaN      1\n",
            "1733498   A     NaN     NaN  NaN      1\n",
            "161574    B     NaN     NaN  NaN      1\n",
            "168443    B     NaN     NaN  NaN      1\n",
            "     active  orders          rev  users\n",
            "grp                                    \n",
            "A    1538.0   107.0   92096.0000  14693\n",
            "B    6803.0   434.0  481230.0036  59883\n"
          ],
          "name": "stdout"
        },
        {
          "output_type": "execute_result",
          "data": {
            "text/html": [
              "<div>\n",
              "<style scoped>\n",
              "    .dataframe tbody tr th:only-of-type {\n",
              "        vertical-align: middle;\n",
              "    }\n",
              "\n",
              "    .dataframe tbody tr th {\n",
              "        vertical-align: top;\n",
              "    }\n",
              "\n",
              "    .dataframe thead th {\n",
              "        text-align: right;\n",
              "    }\n",
              "</style>\n",
              "<table border=\"1\" class=\"dataframe\">\n",
              "  <thead>\n",
              "    <tr style=\"text-align: right;\">\n",
              "      <th></th>\n",
              "      <th>active</th>\n",
              "      <th>orders</th>\n",
              "      <th>rev</th>\n",
              "      <th>users</th>\n",
              "    </tr>\n",
              "  </thead>\n",
              "  <tbody>\n",
              "    <tr>\n",
              "      <th>count</th>\n",
              "      <td>8341.0</td>\n",
              "      <td>541.0</td>\n",
              "      <td>541.000000</td>\n",
              "      <td>74576.0</td>\n",
              "    </tr>\n",
              "    <tr>\n",
              "      <th>mean</th>\n",
              "      <td>1.0</td>\n",
              "      <td>1.0</td>\n",
              "      <td>1059.752317</td>\n",
              "      <td>1.0</td>\n",
              "    </tr>\n",
              "    <tr>\n",
              "      <th>std</th>\n",
              "      <td>0.0</td>\n",
              "      <td>0.0</td>\n",
              "      <td>762.712359</td>\n",
              "      <td>0.0</td>\n",
              "    </tr>\n",
              "    <tr>\n",
              "      <th>min</th>\n",
              "      <td>1.0</td>\n",
              "      <td>1.0</td>\n",
              "      <td>199.000000</td>\n",
              "      <td>1.0</td>\n",
              "    </tr>\n",
              "    <tr>\n",
              "      <th>25%</th>\n",
              "      <td>1.0</td>\n",
              "      <td>1.0</td>\n",
              "      <td>290.000000</td>\n",
              "      <td>1.0</td>\n",
              "    </tr>\n",
              "    <tr>\n",
              "      <th>50%</th>\n",
              "      <td>1.0</td>\n",
              "      <td>1.0</td>\n",
              "      <td>840.000000</td>\n",
              "      <td>1.0</td>\n",
              "    </tr>\n",
              "    <tr>\n",
              "      <th>75%</th>\n",
              "      <td>1.0</td>\n",
              "      <td>1.0</td>\n",
              "      <td>1900.000000</td>\n",
              "      <td>1.0</td>\n",
              "    </tr>\n",
              "    <tr>\n",
              "      <th>max</th>\n",
              "      <td>1.0</td>\n",
              "      <td>1.0</td>\n",
              "      <td>4650.000000</td>\n",
              "      <td>1.0</td>\n",
              "    </tr>\n",
              "  </tbody>\n",
              "</table>\n",
              "</div>"
            ],
            "text/plain": [
              "       active  orders          rev    users\n",
              "count  8341.0   541.0   541.000000  74576.0\n",
              "mean      1.0     1.0  1059.752317      1.0\n",
              "std       0.0     0.0   762.712359      0.0\n",
              "min       1.0     1.0   199.000000      1.0\n",
              "25%       1.0     1.0   290.000000      1.0\n",
              "50%       1.0     1.0   840.000000      1.0\n",
              "75%       1.0     1.0  1900.000000      1.0\n",
              "max       1.0     1.0  4650.000000      1.0"
            ]
          },
          "metadata": {
            "tags": []
          },
          "execution_count": 2
        }
      ]
    },
    {
      "cell_type": "code",
      "metadata": {
        "id": "T0YM3kjPhZCn",
        "colab_type": "code",
        "outputId": "0cde8ada-620b-451e-a7ed-7f641403c52d",
        "colab": {
          "base_uri": "https://localhost:8080/",
          "height": 441
        }
      },
      "source": [
        "def bootstrap(data, n_bootstraps=2000): \n",
        "    df = data.copy() # Create copy to avoid changing initial dataframe\n",
        "\n",
        "    # Number of samples in each bootstrap = least group size * number of groups\n",
        "    n_samples = df['grp'].value_counts().min() * df['grp'].nunique()\n",
        "    print('SAMPLES:', n_samples) \n",
        "\n",
        "    # Weights to account for unbalanced groups\n",
        "    weights = (len(df) - df['grp'].value_counts()) / len(df)\n",
        "    print('WEIGHTS:')\n",
        "    print(weights)\n",
        "    weights = df['grp'].map(weights)\n",
        "\n",
        "    # Sample all at once is faster \n",
        "    bt_samples = df.sample(n_bootstraps * n_samples, replace=True, weights=weights)\n",
        "    bt_samples['bootstrap_id'] = list(range(n_bootstraps)) * n_samples\n",
        "    print(bt_samples.head())\n",
        "\n",
        "    # Aggregate across bootstraps\n",
        "    stats = bt_samples.groupby(['bootstrap_id', 'grp']).sum().unstack('grp')\n",
        "    stats.columns = stats.columns.map('_'.join) # Merge column groups\n",
        "    return stats \n",
        "    \n",
        "stats = bootstrap(data) \n",
        "stats.head()"
      ],
      "execution_count": 0,
      "outputs": [
        {
          "output_type": "stream",
          "text": [
            "SAMPLES: 29386\n",
            "WEIGHTS:\n",
            "B    0.19702\n",
            "A    0.80298\n",
            "Name: grp, dtype: float64\n",
            "        grp  active  orders  rev  users  bootstrap_id\n",
            "id                                                   \n",
            "4713650   B     1.0     NaN  NaN      1             0\n",
            "1850167   A     NaN     NaN  NaN      1             1\n",
            "2062618   B     1.0     NaN  NaN      1             2\n",
            "3353259   B     NaN     NaN  NaN      1             3\n",
            "3505267   B     NaN     NaN  NaN      1             4\n"
          ],
          "name": "stdout"
        },
        {
          "output_type": "execute_result",
          "data": {
            "text/html": [
              "<div>\n",
              "<style scoped>\n",
              "    .dataframe tbody tr th:only-of-type {\n",
              "        vertical-align: middle;\n",
              "    }\n",
              "\n",
              "    .dataframe tbody tr th {\n",
              "        vertical-align: top;\n",
              "    }\n",
              "\n",
              "    .dataframe thead th {\n",
              "        text-align: right;\n",
              "    }\n",
              "</style>\n",
              "<table border=\"1\" class=\"dataframe\">\n",
              "  <thead>\n",
              "    <tr style=\"text-align: right;\">\n",
              "      <th></th>\n",
              "      <th>active_A</th>\n",
              "      <th>active_B</th>\n",
              "      <th>orders_A</th>\n",
              "      <th>orders_B</th>\n",
              "      <th>rev_A</th>\n",
              "      <th>rev_B</th>\n",
              "      <th>users_A</th>\n",
              "      <th>users_B</th>\n",
              "    </tr>\n",
              "    <tr>\n",
              "      <th>bootstrap_id</th>\n",
              "      <th></th>\n",
              "      <th></th>\n",
              "      <th></th>\n",
              "      <th></th>\n",
              "      <th></th>\n",
              "      <th></th>\n",
              "      <th></th>\n",
              "      <th></th>\n",
              "    </tr>\n",
              "  </thead>\n",
              "  <tbody>\n",
              "    <tr>\n",
              "      <th>0</th>\n",
              "      <td>1502.0</td>\n",
              "      <td>1652.0</td>\n",
              "      <td>101.0</td>\n",
              "      <td>120.0</td>\n",
              "      <td>85791.0</td>\n",
              "      <td>142554.0017</td>\n",
              "      <td>14637</td>\n",
              "      <td>14749</td>\n",
              "    </tr>\n",
              "    <tr>\n",
              "      <th>1</th>\n",
              "      <td>1501.0</td>\n",
              "      <td>1627.0</td>\n",
              "      <td>108.0</td>\n",
              "      <td>115.0</td>\n",
              "      <td>99450.0</td>\n",
              "      <td>132962.0009</td>\n",
              "      <td>14596</td>\n",
              "      <td>14790</td>\n",
              "    </tr>\n",
              "    <tr>\n",
              "      <th>2</th>\n",
              "      <td>1517.0</td>\n",
              "      <td>1634.0</td>\n",
              "      <td>97.0</td>\n",
              "      <td>116.0</td>\n",
              "      <td>77123.0</td>\n",
              "      <td>134845.0009</td>\n",
              "      <td>14781</td>\n",
              "      <td>14605</td>\n",
              "    </tr>\n",
              "    <tr>\n",
              "      <th>3</th>\n",
              "      <td>1457.0</td>\n",
              "      <td>1675.0</td>\n",
              "      <td>85.0</td>\n",
              "      <td>109.0</td>\n",
              "      <td>63499.0</td>\n",
              "      <td>121996.0010</td>\n",
              "      <td>14625</td>\n",
              "      <td>14761</td>\n",
              "    </tr>\n",
              "    <tr>\n",
              "      <th>4</th>\n",
              "      <td>1560.0</td>\n",
              "      <td>1669.0</td>\n",
              "      <td>111.0</td>\n",
              "      <td>115.0</td>\n",
              "      <td>98358.0</td>\n",
              "      <td>125386.0006</td>\n",
              "      <td>14688</td>\n",
              "      <td>14698</td>\n",
              "    </tr>\n",
              "  </tbody>\n",
              "</table>\n",
              "</div>"
            ],
            "text/plain": [
              "              active_A  active_B  orders_A  ...        rev_B  users_A  users_B\n",
              "bootstrap_id                                ...                               \n",
              "0               1502.0    1652.0     101.0  ...  142554.0017    14637    14749\n",
              "1               1501.0    1627.0     108.0  ...  132962.0009    14596    14790\n",
              "2               1517.0    1634.0      97.0  ...  134845.0009    14781    14605\n",
              "3               1457.0    1675.0      85.0  ...  121996.0010    14625    14761\n",
              "4               1560.0    1669.0     111.0  ...  125386.0006    14688    14698\n",
              "\n",
              "[5 rows x 8 columns]"
            ]
          },
          "metadata": {
            "tags": []
          },
          "execution_count": 3
        }
      ]
    },
    {
      "cell_type": "code",
      "metadata": {
        "id": "2LWbrMlBD2oR",
        "colab_type": "code",
        "outputId": "a3814673-c06b-4052-ec5a-d30f5025d518",
        "colab": {
          "base_uri": "https://localhost:8080/",
          "height": 591
        }
      },
      "source": [
        "def box(df, low, high):\n",
        "    data=df.stack().reset_index(1).rename(columns={0: 'change', 'level_1': 'metric'})\n",
        "    fig, ax = plt.subplots(1, 1, figsize=(15, 5))\n",
        "    sns.boxplot('change', 'metric', data=data, whis=[low * 100, high * 100])\n",
        "    ax.axvline(0, ls='--')\n",
        "\n",
        "\n",
        "def analyse(stats, low=0.025, high=0.975, test='B', control='A'):\n",
        "    df = stats.copy()\n",
        "    for g in (test, control):\n",
        "        df[f'act_pct_{g}'] = df[f'active_{g}'] / df[f'users_{g}'] # Convertion from Active to Order\n",
        "        df[f'cvr_{g}'] = df[f'orders_{g}'] / df[f'active_{g}'] # Convertion from Active to Order\n",
        "        df[f'aov_{g}'] = df[f'rev_{g}'] / df[f'orders_{g}'] # Average Order Value\n",
        "        df[f'arpu_{g}'] = df[f'rev_{g}'] / df[f'users_{g}'] # Average Reveue per User\n",
        "        df[f'arpau_{g}'] = df[f'rev_{g}'] / df[f'active_{g}'] # Average Reveue per Active User\n",
        "    \n",
        "    metrics = ['users', 'active', 'act_pct', 'orders', 'cvr', 'rev', 'aov', 'arpu', 'arpau']\n",
        "    for metric in metrics:\n",
        "        df[metric] = df[f'{metric}_{test}'] / df[f'{metric}_{control}'] - 1 # Ratio between Test and Control\n",
        "    \n",
        "    box(df[metrics], low, high)\n",
        "    summary = df[metrics].quantile([low, 0.5, high]).T\n",
        "    return summary\n",
        "\n",
        "summary = analyse(stats)\n",
        "summary.style.format('{:+.2%}')"
      ],
      "execution_count": 0,
      "outputs": [
        {
          "output_type": "execute_result",
          "data": {
            "text/html": [
              "<style  type=\"text/css\" >\n",
              "</style><table id=\"T_a95c8402_059b_11ea_acf0_0242ac1c0002\" ><thead>    <tr>        <th class=\"blank level0\" ></th>        <th class=\"col_heading level0 col0\" >0.025</th>        <th class=\"col_heading level0 col1\" >0.5</th>        <th class=\"col_heading level0 col2\" >0.975</th>    </tr></thead><tbody>\n",
              "                <tr>\n",
              "                        <th id=\"T_a95c8402_059b_11ea_acf0_0242ac1c0002level0_row0\" class=\"row_heading level0 row0\" >users</th>\n",
              "                        <td id=\"T_a95c8402_059b_11ea_acf0_0242ac1c0002row0_col0\" class=\"data row0 col0\" >-2.18%</td>\n",
              "                        <td id=\"T_a95c8402_059b_11ea_acf0_0242ac1c0002row0_col1\" class=\"data row0 col1\" >+0.01%</td>\n",
              "                        <td id=\"T_a95c8402_059b_11ea_acf0_0242ac1c0002row0_col2\" class=\"data row0 col2\" >+2.40%</td>\n",
              "            </tr>\n",
              "            <tr>\n",
              "                        <th id=\"T_a95c8402_059b_11ea_acf0_0242ac1c0002level0_row1\" class=\"row_heading level0 row1\" >active</th>\n",
              "                        <td id=\"T_a95c8402_059b_11ea_acf0_0242ac1c0002row1_col0\" class=\"data row1 col0\" >+0.94%</td>\n",
              "                        <td id=\"T_a95c8402_059b_11ea_acf0_0242ac1c0002row1_col1\" class=\"data row1 col1\" >+8.52%</td>\n",
              "                        <td id=\"T_a95c8402_059b_11ea_acf0_0242ac1c0002row1_col2\" class=\"data row1 col2\" >+16.25%</td>\n",
              "            </tr>\n",
              "            <tr>\n",
              "                        <th id=\"T_a95c8402_059b_11ea_acf0_0242ac1c0002level0_row2\" class=\"row_heading level0 row2\" >act_pct</th>\n",
              "                        <td id=\"T_a95c8402_059b_11ea_acf0_0242ac1c0002row2_col0\" class=\"data row2 col0\" >+1.38%</td>\n",
              "                        <td id=\"T_a95c8402_059b_11ea_acf0_0242ac1c0002row2_col1\" class=\"data row2 col1\" >+8.49%</td>\n",
              "                        <td id=\"T_a95c8402_059b_11ea_acf0_0242ac1c0002row2_col2\" class=\"data row2 col2\" >+15.65%</td>\n",
              "            </tr>\n",
              "            <tr>\n",
              "                        <th id=\"T_a95c8402_059b_11ea_acf0_0242ac1c0002level0_row3\" class=\"row_heading level0 row3\" >orders</th>\n",
              "                        <td id=\"T_a95c8402_059b_11ea_acf0_0242ac1c0002row3_col0\" class=\"data row3 col0\" >-24.14%</td>\n",
              "                        <td id=\"T_a95c8402_059b_11ea_acf0_0242ac1c0002row3_col1\" class=\"data row3 col1\" >+0.00%</td>\n",
              "                        <td id=\"T_a95c8402_059b_11ea_acf0_0242ac1c0002row3_col2\" class=\"data row3 col2\" >+30.11%</td>\n",
              "            </tr>\n",
              "            <tr>\n",
              "                        <th id=\"T_a95c8402_059b_11ea_acf0_0242ac1c0002level0_row4\" class=\"row_heading level0 row4\" >cvr</th>\n",
              "                        <td id=\"T_a95c8402_059b_11ea_acf0_0242ac1c0002row4_col0\" class=\"data row4 col0\" >-30.22%</td>\n",
              "                        <td id=\"T_a95c8402_059b_11ea_acf0_0242ac1c0002row4_col1\" class=\"data row4 col1\" >-8.10%</td>\n",
              "                        <td id=\"T_a95c8402_059b_11ea_acf0_0242ac1c0002row4_col2\" class=\"data row4 col2\" >+19.29%</td>\n",
              "            </tr>\n",
              "            <tr>\n",
              "                        <th id=\"T_a95c8402_059b_11ea_acf0_0242ac1c0002level0_row5\" class=\"row_heading level0 row5\" >rev</th>\n",
              "                        <td id=\"T_a95c8402_059b_11ea_acf0_0242ac1c0002row5_col0\" class=\"data row5 col0\" >-9.71%</td>\n",
              "                        <td id=\"T_a95c8402_059b_11ea_acf0_0242ac1c0002row5_col1\" class=\"data row5 col1\" >+27.54%</td>\n",
              "                        <td id=\"T_a95c8402_059b_11ea_acf0_0242ac1c0002row5_col2\" class=\"data row5 col2\" >+82.55%</td>\n",
              "            </tr>\n",
              "            <tr>\n",
              "                        <th id=\"T_a95c8402_059b_11ea_acf0_0242ac1c0002level0_row6\" class=\"row_heading level0 row6\" >aov</th>\n",
              "                        <td id=\"T_a95c8402_059b_11ea_acf0_0242ac1c0002row6_col0\" class=\"data row6 col0\" >+3.03%</td>\n",
              "                        <td id=\"T_a95c8402_059b_11ea_acf0_0242ac1c0002row6_col1\" class=\"data row6 col1\" >+28.36%</td>\n",
              "                        <td id=\"T_a95c8402_059b_11ea_acf0_0242ac1c0002row6_col2\" class=\"data row6 col2\" >+61.38%</td>\n",
              "            </tr>\n",
              "            <tr>\n",
              "                        <th id=\"T_a95c8402_059b_11ea_acf0_0242ac1c0002level0_row7\" class=\"row_heading level0 row7\" >arpu</th>\n",
              "                        <td id=\"T_a95c8402_059b_11ea_acf0_0242ac1c0002row7_col0\" class=\"data row7 col0\" >-9.51%</td>\n",
              "                        <td id=\"T_a95c8402_059b_11ea_acf0_0242ac1c0002row7_col1\" class=\"data row7 col1\" >+27.60%</td>\n",
              "                        <td id=\"T_a95c8402_059b_11ea_acf0_0242ac1c0002row7_col2\" class=\"data row7 col2\" >+82.55%</td>\n",
              "            </tr>\n",
              "            <tr>\n",
              "                        <th id=\"T_a95c8402_059b_11ea_acf0_0242ac1c0002level0_row8\" class=\"row_heading level0 row8\" >arpau</th>\n",
              "                        <td id=\"T_a95c8402_059b_11ea_acf0_0242ac1c0002row8_col0\" class=\"data row8 col0\" >-15.87%</td>\n",
              "                        <td id=\"T_a95c8402_059b_11ea_acf0_0242ac1c0002row8_col1\" class=\"data row8 col1\" >+17.75%</td>\n",
              "                        <td id=\"T_a95c8402_059b_11ea_acf0_0242ac1c0002row8_col2\" class=\"data row8 col2\" >+68.63%</td>\n",
              "            </tr>\n",
              "    </tbody></table>"
            ],
            "text/plain": [
              "<pandas.io.formats.style.Styler at 0x7fad8daed7b8>"
            ]
          },
          "metadata": {
            "tags": []
          },
          "execution_count": 4
        },
        {
          "output_type": "display_data",
          "data": {
            "image/png": "[encoded data removed]",
            "text/plain": [
              "<Figure size 1080x360 with 1 Axes>"
            ]
          },
          "metadata": {
            "tags": []
          }
        }
      ]
    },
    {
      "cell_type": "markdown",
      "metadata": {
        "id": "x3uJBxtm0ms8",
        "colab_type": "text"
      },
      "source": [
        "# Вывод\n",
        "\n",
        "### Наблюдаются положительные результаты эксперимента. Рекомендуется к запуску на всю аудиторию:\n",
        "\n",
        "* Статистически значимое увеличение количества __активных пользователей +8.5%__\n",
        "* Статистически значимое увеличение __среднего чека +28.5%__\n",
        "\n",
        "* Не значимое уменьшение конверсии\n",
        "* Не значимое увеличение reveue и arpu\n",
        "\n"
      ]
    },
    {
      "cell_type": "code",
      "metadata": {
        "id": "ua3Xn9bWq6ln",
        "colab_type": "code",
        "colab": {}
      },
      "source": [
        ""
      ],
      "execution_count": 0,
      "outputs": []
    }
  ]
}