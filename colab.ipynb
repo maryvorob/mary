{
  "nbformat": 4,
  "nbformat_minor": 0,
  "metadata": {
    "colab": {
      "name": "colab.ipynb",
      "provenance": [],
      "collapsed_sections": []
    },
    "kernelspec": {
      "name": "python3",
      "display_name": "Python 3"
    }
  },
  "cells": [
    {
      "cell_type": "code",
      "metadata": {
        "id": "7D3alATMAPMj",
        "colab_type": "code",
        "outputId": "3376bc85-b015-4f54-e325-11fe0406df52",
        "colab": {
          "base_uri": "https://localhost:8080/",
          "height": 374
        }
      },
      "source": [
        "%matplotlib inline\n",
        "import matplotlib.pyplot as plt\n",
        "import pandas as pd\n",
        "import seaborn as sns\n",
        "\n",
        "\n",
        "def download_files(path='https://raw.githubusercontent.com/maryvorob/mary/master/',\n",
        "                   files=('checks', 'groups', 'active_studs')):\n",
        "    data = []\n",
        "    for f in files:\n",
        "        df = pd.read_csv(f'{path}/{f}.csv', sep=';')\n",
        "        print(f, '\\n', df.head())\n",
        "        data.append(df)\n",
        "    return data\n",
        "\n",
        "\n",
        "checks, groups, active_studs = download_files()"
      ],
      "execution_count": 1,
      "outputs": [
        {
          "output_type": "stream",
          "text": [
            "checks \n",
            "    student_id    rev\n",
            "0        1627  990.0\n",
            "1        3185  690.0\n",
            "2       25973  690.0\n",
            "3       26280  690.0\n",
            "4      100300  990.0\n",
            "groups \n",
            "         id grp\n",
            "0  1206794   B\n",
            "1   331024   B\n",
            "2  1733498   A\n",
            "3   161574   B\n",
            "4   168443   B\n",
            "active_studs \n",
            "    student_id\n",
            "0      581585\n",
            "1     5723133\n",
            "2     3276743\n",
            "3     4238589\n",
            "4     4475369\n"
          ],
          "name": "stdout"
        }
      ]
    },
    {
      "cell_type": "code",
      "metadata": {
        "id": "H_NCkF5ZAijX",
        "colab_type": "code",
        "outputId": "67e24874-4599-43af-df60-c6b34e2f715c",
        "colab": {
          "base_uri": "https://localhost:8080/",
          "height": 484
        }
      },
      "source": [
        "def join_data(checks, groups, active_studs):\n",
        "    return (groups.set_index('id')\n",
        "            .join(active_studs['student_id'].value_counts().rename('active'))\n",
        "            .join(checks.groupby('student_id')['rev'].agg(orders='count', rev='sum'))\n",
        "            )\n",
        "\n",
        "\n",
        "data = join_data(checks, groups, active_studs)\n",
        "data['users'] = 1\n",
        "print(data.head())\n",
        "print(data.groupby('grp').sum())\n",
        "data.describe()"
      ],
      "execution_count": 2,
      "outputs": [
        {
          "output_type": "stream",
          "text": [
            "        grp  active  orders  rev  users\n",
            "id                                     \n",
            "1206794   B     NaN     NaN  NaN      1\n",
            "331024    B     NaN     NaN  NaN      1\n",
            "1733498   A     NaN     NaN  NaN      1\n",
            "161574    B     NaN     NaN  NaN      1\n",
            "168443    B     NaN     NaN  NaN      1\n",
            "     active  orders          rev  users\n",
            "grp                                    \n",
            "A    1538.0   107.0   92096.0000  14693\n",
            "B    6803.0   434.0  481230.0036  59883\n"
          ],
          "name": "stdout"
        },
        {
          "output_type": "execute_result",
          "data": {
            "text/html": [
              "<div>\n",
              "<style scoped>\n",
              "    .dataframe tbody tr th:only-of-type {\n",
              "        vertical-align: middle;\n",
              "    }\n",
              "\n",
              "    .dataframe tbody tr th {\n",
              "        vertical-align: top;\n",
              "    }\n",
              "\n",
              "    .dataframe thead th {\n",
              "        text-align: right;\n",
              "    }\n",
              "</style>\n",
              "<table border=\"1\" class=\"dataframe\">\n",
              "  <thead>\n",
              "    <tr style=\"text-align: right;\">\n",
              "      <th></th>\n",
              "      <th>active</th>\n",
              "      <th>orders</th>\n",
              "      <th>rev</th>\n",
              "      <th>users</th>\n",
              "    </tr>\n",
              "  </thead>\n",
              "  <tbody>\n",
              "    <tr>\n",
              "      <th>count</th>\n",
              "      <td>8341.0</td>\n",
              "      <td>541.0</td>\n",
              "      <td>541.000000</td>\n",
              "      <td>74576.0</td>\n",
              "    </tr>\n",
              "    <tr>\n",
              "      <th>mean</th>\n",
              "      <td>1.0</td>\n",
              "      <td>1.0</td>\n",
              "      <td>1059.752317</td>\n",
              "      <td>1.0</td>\n",
              "    </tr>\n",
              "    <tr>\n",
              "      <th>std</th>\n",
              "      <td>0.0</td>\n",
              "      <td>0.0</td>\n",
              "      <td>762.712359</td>\n",
              "      <td>0.0</td>\n",
              "    </tr>\n",
              "    <tr>\n",
              "      <th>min</th>\n",
              "      <td>1.0</td>\n",
              "      <td>1.0</td>\n",
              "      <td>199.000000</td>\n",
              "      <td>1.0</td>\n",
              "    </tr>\n",
              "    <tr>\n",
              "      <th>25%</th>\n",
              "      <td>1.0</td>\n",
              "      <td>1.0</td>\n",
              "      <td>290.000000</td>\n",
              "      <td>1.0</td>\n",
              "    </tr>\n",
              "    <tr>\n",
              "      <th>50%</th>\n",
              "      <td>1.0</td>\n",
              "      <td>1.0</td>\n",
              "      <td>840.000000</td>\n",
              "      <td>1.0</td>\n",
              "    </tr>\n",
              "    <tr>\n",
              "      <th>75%</th>\n",
              "      <td>1.0</td>\n",
              "      <td>1.0</td>\n",
              "      <td>1900.000000</td>\n",
              "      <td>1.0</td>\n",
              "    </tr>\n",
              "    <tr>\n",
              "      <th>max</th>\n",
              "      <td>1.0</td>\n",
              "      <td>1.0</td>\n",
              "      <td>4650.000000</td>\n",
              "      <td>1.0</td>\n",
              "    </tr>\n",
              "  </tbody>\n",
              "</table>\n",
              "</div>"
            ],
            "text/plain": [
              "       active  orders          rev    users\n",
              "count  8341.0   541.0   541.000000  74576.0\n",
              "mean      1.0     1.0  1059.752317      1.0\n",
              "std       0.0     0.0   762.712359      0.0\n",
              "min       1.0     1.0   199.000000      1.0\n",
              "25%       1.0     1.0   290.000000      1.0\n",
              "50%       1.0     1.0   840.000000      1.0\n",
              "75%       1.0     1.0  1900.000000      1.0\n",
              "max       1.0     1.0  4650.000000      1.0"
            ]
          },
          "metadata": {
            "tags": []
          },
          "execution_count": 2
        }
      ]
    },
    {
      "cell_type": "code",
      "metadata": {
        "id": "T0YM3kjPhZCn",
        "colab_type": "code",
        "outputId": "60c265cf-d565-4b5a-dc69-09fd1f733134",
        "colab": {
          "base_uri": "https://localhost:8080/",
          "height": 439
        }
      },
      "source": [
        "def bootstrap(data, n_bootstraps=2000):\n",
        "    df = data.copy()\n",
        "    n_samples = df['grp'].value_counts().min() * df['grp'].nunique()\n",
        "    print('SAMPLES:', n_samples)\n",
        "\n",
        "    # Weights to account for unbalanced groups\n",
        "    weights = (len(df) - df['grp'].value_counts()) / len(df)\n",
        "    print('WEIGHTS:')\n",
        "    print(weights)\n",
        "    weights = df['grp'].map(weights)\n",
        "\n",
        "    # Sample everything at once\n",
        "    bt_samples = df.sample(n_bootstraps * n_samples, replace=True, weights=weights)\n",
        "    bt_samples['bootstrap_id'] = list(range(n_bootstraps)) * n_samples\n",
        "    print(bt_samples.head())\n",
        "\n",
        "    # Aggregate across bootstraps\n",
        "    stats = bt_samples.groupby(['bootstrap_id', 'grp']).sum().unstack('grp')\n",
        "    \n",
        "    # Merge column groups\n",
        "    # https://stackoverflow.com/questions/48728847/how-to-combine-2-level-column-index-of-dataframe-into-a-single-column-index\n",
        "    stats.columns = stats.columns.map('_'.join)  \n",
        "    return stats\n",
        "\n",
        "\n",
        "stats = bootstrap(data)\n",
        "stats.head()"
      ],
      "execution_count": 3,
      "outputs": [
        {
          "output_type": "stream",
          "text": [
            "SAMPLES: 29386\n",
            "WEIGHTS:\n",
            "B    0.19702\n",
            "A    0.80298\n",
            "Name: grp, dtype: float64\n",
            "        grp  active  orders  rev  users  bootstrap_id\n",
            "id                                                   \n",
            "2561450   B     NaN     NaN  NaN      1             0\n",
            "1049440   A     NaN     NaN  NaN      1             1\n",
            "4414229   A     NaN     NaN  NaN      1             2\n",
            "749004    B     NaN     NaN  NaN      1             3\n",
            "315973    B     NaN     NaN  NaN      1             4\n"
          ],
          "name": "stdout"
        },
        {
          "output_type": "execute_result",
          "data": {
            "text/html": [
              "<div>\n",
              "<style scoped>\n",
              "    .dataframe tbody tr th:only-of-type {\n",
              "        vertical-align: middle;\n",
              "    }\n",
              "\n",
              "    .dataframe tbody tr th {\n",
              "        vertical-align: top;\n",
              "    }\n",
              "\n",
              "    .dataframe thead th {\n",
              "        text-align: right;\n",
              "    }\n",
              "</style>\n",
              "<table border=\"1\" class=\"dataframe\">\n",
              "  <thead>\n",
              "    <tr style=\"text-align: right;\">\n",
              "      <th></th>\n",
              "      <th>active_A</th>\n",
              "      <th>active_B</th>\n",
              "      <th>orders_A</th>\n",
              "      <th>orders_B</th>\n",
              "      <th>rev_A</th>\n",
              "      <th>rev_B</th>\n",
              "      <th>users_A</th>\n",
              "      <th>users_B</th>\n",
              "    </tr>\n",
              "    <tr>\n",
              "      <th>bootstrap_id</th>\n",
              "      <th></th>\n",
              "      <th></th>\n",
              "      <th></th>\n",
              "      <th></th>\n",
              "      <th></th>\n",
              "      <th></th>\n",
              "      <th></th>\n",
              "      <th></th>\n",
              "    </tr>\n",
              "  </thead>\n",
              "  <tbody>\n",
              "    <tr>\n",
              "      <th>0</th>\n",
              "      <td>1521.0</td>\n",
              "      <td>1629.0</td>\n",
              "      <td>97.0</td>\n",
              "      <td>104.0</td>\n",
              "      <td>76223.0</td>\n",
              "      <td>113280.0009</td>\n",
              "      <td>14710</td>\n",
              "      <td>14676</td>\n",
              "    </tr>\n",
              "    <tr>\n",
              "      <th>1</th>\n",
              "      <td>1484.0</td>\n",
              "      <td>1659.0</td>\n",
              "      <td>110.0</td>\n",
              "      <td>93.0</td>\n",
              "      <td>96938.0</td>\n",
              "      <td>99316.0010</td>\n",
              "      <td>14678</td>\n",
              "      <td>14708</td>\n",
              "    </tr>\n",
              "    <tr>\n",
              "      <th>2</th>\n",
              "      <td>1604.0</td>\n",
              "      <td>1601.0</td>\n",
              "      <td>112.0</td>\n",
              "      <td>99.0</td>\n",
              "      <td>110591.0</td>\n",
              "      <td>117194.0007</td>\n",
              "      <td>14720</td>\n",
              "      <td>14666</td>\n",
              "    </tr>\n",
              "    <tr>\n",
              "      <th>3</th>\n",
              "      <td>1572.0</td>\n",
              "      <td>1676.0</td>\n",
              "      <td>120.0</td>\n",
              "      <td>124.0</td>\n",
              "      <td>110516.0</td>\n",
              "      <td>150118.0013</td>\n",
              "      <td>14755</td>\n",
              "      <td>14631</td>\n",
              "    </tr>\n",
              "    <tr>\n",
              "      <th>4</th>\n",
              "      <td>1433.0</td>\n",
              "      <td>1738.0</td>\n",
              "      <td>92.0</td>\n",
              "      <td>107.0</td>\n",
              "      <td>76286.0</td>\n",
              "      <td>114434.0014</td>\n",
              "      <td>14724</td>\n",
              "      <td>14662</td>\n",
              "    </tr>\n",
              "  </tbody>\n",
              "</table>\n",
              "</div>"
            ],
            "text/plain": [
              "              active_A  active_B  orders_A  ...        rev_B  users_A  users_B\n",
              "bootstrap_id                                ...                               \n",
              "0               1521.0    1629.0      97.0  ...  113280.0009    14710    14676\n",
              "1               1484.0    1659.0     110.0  ...   99316.0010    14678    14708\n",
              "2               1604.0    1601.0     112.0  ...  117194.0007    14720    14666\n",
              "3               1572.0    1676.0     120.0  ...  150118.0013    14755    14631\n",
              "4               1433.0    1738.0      92.0  ...  114434.0014    14724    14662\n",
              "\n",
              "[5 rows x 8 columns]"
            ]
          },
          "metadata": {
            "tags": []
          },
          "execution_count": 3
        }
      ]
    },
    {
      "cell_type": "code",
      "metadata": {
        "id": "ctO58JMt-pzB",
        "colab_type": "code",
        "colab": {}
      },
      "source": [
        "def box(df, low, high, figsize=(15, 5), style='fivethirtyeight', xax_fmt='{:.1%}'):\n",
        "    data = df.stack().reset_index(1).rename(columns={0: 'change', 'level_1': 'metric'})\n",
        "    plt.style.use(style)\n",
        "    fig, ax = plt.subplots(1, 1, figsize=figsize)\n",
        "    # Boxplot with intervals\n",
        "    # https://stackoverflow.com/questions/50554235/how-to-base-seaborn-boxplot-whiskers-on-percentiles\n",
        "    sns.boxplot('change', 'metric', data=data, whis=[low * 100, high * 100])\n",
        "    ax.axvline(0, ls='--')\n",
        "    # https://stackoverflow.com/questions/29188757/matplotlib-specify-format-of-floats-for-tick-lables\n",
        "    ax.set_xticklabels([xax_fmt.format(x) for x in ax.get_xticks()])"
      ],
      "execution_count": 0,
      "outputs": []
    },
    {
      "cell_type": "code",
      "metadata": {
        "id": "2LWbrMlBD2oR",
        "colab_type": "code",
        "outputId": "d96ddbe6-f8c1-46d2-c3c0-440fe8b84b97",
        "colab": {
          "base_uri": "https://localhost:8080/",
          "height": 574
        }
      },
      "source": [
        "def analyse(stats, low=0.025, high=0.975, test='B', control='A'):\n",
        "    df = stats.copy()\n",
        "    for g in (test, control):\n",
        "        df[f'act_pct_{g}'] = df[f'active_{g}'] / df[f'users_{g}']  # Convertion from Active to Order\n",
        "        df[f'cvr_{g}'] = df[f'orders_{g}'] / df[f'active_{g}']  # Convertion from Active to Order\n",
        "        df[f'aov_{g}'] = df[f'rev_{g}'] / df[f'orders_{g}']  # Average Order Value\n",
        "        df[f'arpu_{g}'] = df[f'rev_{g}'] / df[f'users_{g}']  # Average Reveue per User\n",
        "        df[f'arpau_{g}'] = df[f'rev_{g}'] / df[f'active_{g}']  # Average Reveue per Active User\n",
        "\n",
        "    metrics = ['users', 'active', 'act_pct', 'orders', 'cvr', 'rev', 'aov', 'arpu', 'arpau']\n",
        "    for metric in metrics:\n",
        "        df[metric] = df[f'{metric}_{test}'] / df[f'{metric}_{control}'] - 1  # Ratio between Test and Control\n",
        "\n",
        "    box(df[metrics], low, high)\n",
        "    summary = df[metrics].quantile([low, 0.5, high]).T\n",
        "    return summary\n",
        "\n",
        "\n",
        "summary = analyse(stats)\n",
        "summary.style.format('{:+.2%}')"
      ],
      "execution_count": 5,
      "outputs": [
        {
          "output_type": "execute_result",
          "data": {
            "text/html": [
              "<style  type=\"text/css\" >\n",
              "</style><table id=\"T_7d388cac_05a7_11ea_8967_0242ac1c0002\" ><thead>    <tr>        <th class=\"blank level0\" ></th>        <th class=\"col_heading level0 col0\" >0.025</th>        <th class=\"col_heading level0 col1\" >0.5</th>        <th class=\"col_heading level0 col2\" >0.975</th>    </tr></thead><tbody>\n",
              "                <tr>\n",
              "                        <th id=\"T_7d388cac_05a7_11ea_8967_0242ac1c0002level0_row0\" class=\"row_heading level0 row0\" >users</th>\n",
              "                        <td id=\"T_7d388cac_05a7_11ea_8967_0242ac1c0002row0_col0\" class=\"data row0 col0\" >-2.21%</td>\n",
              "                        <td id=\"T_7d388cac_05a7_11ea_8967_0242ac1c0002row0_col1\" class=\"data row0 col1\" >+0.05%</td>\n",
              "                        <td id=\"T_7d388cac_05a7_11ea_8967_0242ac1c0002row0_col2\" class=\"data row0 col2\" >+2.30%</td>\n",
              "            </tr>\n",
              "            <tr>\n",
              "                        <th id=\"T_7d388cac_05a7_11ea_8967_0242ac1c0002level0_row1\" class=\"row_heading level0 row1\" >active</th>\n",
              "                        <td id=\"T_7d388cac_05a7_11ea_8967_0242ac1c0002row1_col0\" class=\"data row1 col0\" >+1.25%</td>\n",
              "                        <td id=\"T_7d388cac_05a7_11ea_8967_0242ac1c0002row1_col1\" class=\"data row1 col1\" >+8.66%</td>\n",
              "                        <td id=\"T_7d388cac_05a7_11ea_8967_0242ac1c0002row1_col2\" class=\"data row1 col2\" >+16.32%</td>\n",
              "            </tr>\n",
              "            <tr>\n",
              "                        <th id=\"T_7d388cac_05a7_11ea_8967_0242ac1c0002level0_row2\" class=\"row_heading level0 row2\" >act_pct</th>\n",
              "                        <td id=\"T_7d388cac_05a7_11ea_8967_0242ac1c0002row2_col0\" class=\"data row2 col0\" >+1.49%</td>\n",
              "                        <td id=\"T_7d388cac_05a7_11ea_8967_0242ac1c0002row2_col1\" class=\"data row2 col1\" >+8.60%</td>\n",
              "                        <td id=\"T_7d388cac_05a7_11ea_8967_0242ac1c0002row2_col2\" class=\"data row2 col2\" >+15.77%</td>\n",
              "            </tr>\n",
              "            <tr>\n",
              "                        <th id=\"T_7d388cac_05a7_11ea_8967_0242ac1c0002level0_row3\" class=\"row_heading level0 row3\" >orders</th>\n",
              "                        <td id=\"T_7d388cac_05a7_11ea_8967_0242ac1c0002row3_col0\" class=\"data row3 col0\" >-24.64%</td>\n",
              "                        <td id=\"T_7d388cac_05a7_11ea_8967_0242ac1c0002row3_col1\" class=\"data row3 col1\" >+0.00%</td>\n",
              "                        <td id=\"T_7d388cac_05a7_11ea_8967_0242ac1c0002row3_col2\" class=\"data row3 col2\" >+30.85%</td>\n",
              "            </tr>\n",
              "            <tr>\n",
              "                        <th id=\"T_7d388cac_05a7_11ea_8967_0242ac1c0002level0_row4\" class=\"row_heading level0 row4\" >cvr</th>\n",
              "                        <td id=\"T_7d388cac_05a7_11ea_8967_0242ac1c0002row4_col0\" class=\"data row4 col0\" >-30.59%</td>\n",
              "                        <td id=\"T_7d388cac_05a7_11ea_8967_0242ac1c0002row4_col1\" class=\"data row4 col1\" >-8.20%</td>\n",
              "                        <td id=\"T_7d388cac_05a7_11ea_8967_0242ac1c0002row4_col2\" class=\"data row4 col2\" >+20.23%</td>\n",
              "            </tr>\n",
              "            <tr>\n",
              "                        <th id=\"T_7d388cac_05a7_11ea_8967_0242ac1c0002level0_row5\" class=\"row_heading level0 row5\" >rev</th>\n",
              "                        <td id=\"T_7d388cac_05a7_11ea_8967_0242ac1c0002row5_col0\" class=\"data row5 col0\" >-10.77%</td>\n",
              "                        <td id=\"T_7d388cac_05a7_11ea_8967_0242ac1c0002row5_col1\" class=\"data row5 col1\" >+28.37%</td>\n",
              "                        <td id=\"T_7d388cac_05a7_11ea_8967_0242ac1c0002row5_col2\" class=\"data row5 col2\" >+82.98%</td>\n",
              "            </tr>\n",
              "            <tr>\n",
              "                        <th id=\"T_7d388cac_05a7_11ea_8967_0242ac1c0002level0_row6\" class=\"row_heading level0 row6\" >aov</th>\n",
              "                        <td id=\"T_7d388cac_05a7_11ea_8967_0242ac1c0002row6_col0\" class=\"data row6 col0\" >+3.32%</td>\n",
              "                        <td id=\"T_7d388cac_05a7_11ea_8967_0242ac1c0002row6_col1\" class=\"data row6 col1\" >+28.51%</td>\n",
              "                        <td id=\"T_7d388cac_05a7_11ea_8967_0242ac1c0002row6_col2\" class=\"data row6 col2\" >+60.36%</td>\n",
              "            </tr>\n",
              "            <tr>\n",
              "                        <th id=\"T_7d388cac_05a7_11ea_8967_0242ac1c0002level0_row7\" class=\"row_heading level0 row7\" >arpu</th>\n",
              "                        <td id=\"T_7d388cac_05a7_11ea_8967_0242ac1c0002row7_col0\" class=\"data row7 col0\" >-10.32%</td>\n",
              "                        <td id=\"T_7d388cac_05a7_11ea_8967_0242ac1c0002row7_col1\" class=\"data row7 col1\" >+28.51%</td>\n",
              "                        <td id=\"T_7d388cac_05a7_11ea_8967_0242ac1c0002row7_col2\" class=\"data row7 col2\" >+82.50%</td>\n",
              "            </tr>\n",
              "            <tr>\n",
              "                        <th id=\"T_7d388cac_05a7_11ea_8967_0242ac1c0002level0_row8\" class=\"row_heading level0 row8\" >arpau</th>\n",
              "                        <td id=\"T_7d388cac_05a7_11ea_8967_0242ac1c0002row8_col0\" class=\"data row8 col0\" >-17.28%</td>\n",
              "                        <td id=\"T_7d388cac_05a7_11ea_8967_0242ac1c0002row8_col1\" class=\"data row8 col1\" >+17.86%</td>\n",
              "                        <td id=\"T_7d388cac_05a7_11ea_8967_0242ac1c0002row8_col2\" class=\"data row8 col2\" >+67.91%</td>\n",
              "            </tr>\n",
              "    </tbody></table>"
            ],
            "text/plain": [
              "<pandas.io.formats.style.Styler at 0x7fe7486824e0>"
            ]
          },
          "metadata": {
            "tags": []
          },
          "execution_count": 5
        },
        {
          "output_type": "display_data",
          "data": {
            "image/png": "[encoded data removed]",
            "text/plain": [
              "<Figure size 1080x360 with 1 Axes>"
            ]
          },
          "metadata": {
            "tags": []
          }
        }
      ]
    },
    {
      "cell_type": "markdown",
      "metadata": {
        "id": "x3uJBxtm0ms8",
        "colab_type": "text"
      },
      "source": [
        ""
      ]
    }
  ]
}