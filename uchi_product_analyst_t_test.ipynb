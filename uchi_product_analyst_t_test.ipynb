{
  "nbformat": 4,
  "nbformat_minor": 0,
  "metadata": {
    "colab": {
      "name": "uchi_product_analyst_t_test.ipynb",
      "provenance": [],
      "collapsed_sections": [],
      "machine_shape": "hm",
      "include_colab_link": true
    },
    "kernelspec": {
      "name": "python3",
      "display_name": "Python 3"
    }
  },
  "cells": [
    {
      "cell_type": "markdown",
      "metadata": {
        "id": "view-in-github",
        "colab_type": "text"
      },
      "source": [
        "<a href=\"https://colab.research.google.com/github/maryvorob/mary/blob/master/uchi_product_analyst_t_test.ipynb\" target=\"_parent\"><img src=\"https://colab.research.google.com/assets/colab-badge.svg\" alt=\"Open In Colab\"/></a>"
      ]
    },
    {
      "cell_type": "code",
      "metadata": {
        "id": "7D3alATMAPMj",
        "colab_type": "code",
        "outputId": "ef5622d0-ded2-4ff2-98bd-ccf1f1199fdc",
        "colab": {
          "base_uri": "https://localhost:8080/",
          "height": 443
        }
      },
      "source": [
        "import matplotlib.pyplot as plt\n",
        "import numpy as np, pandas as pd, seaborn as sns\n",
        "from pprint import pprint\n",
        "from scipy.stats import norm\n",
        "plt.style.use('fivethirtyeight')\n",
        "\n",
        "\n",
        "def download_files(path='https://raw.githubusercontent.com/maryvorob/mary/master/',\n",
        "                   files=('checks', 'groups', 'active_studs')):\n",
        "    data = []\n",
        "    for f in files:\n",
        "        df = pd.read_csv(f'{path}/{f}.csv', sep=';') \n",
        "        display(f, df.head(3))\n",
        "        data.append(df)\n",
        "    return data\n",
        "\n",
        "checks, groups, active_studs = download_files()"
      ],
      "execution_count": 1,
      "outputs": [
        {
          "output_type": "display_data",
          "data": {
            "text/plain": [
              "'checks'"
            ]
          },
          "metadata": {
            "tags": []
          }
        },
        {
          "output_type": "display_data",
          "data": {
            "text/html": [
              "<div>\n",
              "<style scoped>\n",
              "    .dataframe tbody tr th:only-of-type {\n",
              "        vertical-align: middle;\n",
              "    }\n",
              "\n",
              "    .dataframe tbody tr th {\n",
              "        vertical-align: top;\n",
              "    }\n",
              "\n",
              "    .dataframe thead th {\n",
              "        text-align: right;\n",
              "    }\n",
              "</style>\n",
              "<table border=\"1\" class=\"dataframe\">\n",
              "  <thead>\n",
              "    <tr style=\"text-align: right;\">\n",
              "      <th></th>\n",
              "      <th>student_id</th>\n",
              "      <th>rev</th>\n",
              "    </tr>\n",
              "  </thead>\n",
              "  <tbody>\n",
              "    <tr>\n",
              "      <th>0</th>\n",
              "      <td>1627</td>\n",
              "      <td>990.0</td>\n",
              "    </tr>\n",
              "    <tr>\n",
              "      <th>1</th>\n",
              "      <td>3185</td>\n",
              "      <td>690.0</td>\n",
              "    </tr>\n",
              "    <tr>\n",
              "      <th>2</th>\n",
              "      <td>25973</td>\n",
              "      <td>690.0</td>\n",
              "    </tr>\n",
              "  </tbody>\n",
              "</table>\n",
              "</div>"
            ],
            "text/plain": [
              "   student_id    rev\n",
              "0        1627  990.0\n",
              "1        3185  690.0\n",
              "2       25973  690.0"
            ]
          },
          "metadata": {
            "tags": []
          }
        },
        {
          "output_type": "display_data",
          "data": {
            "text/plain": [
              "'groups'"
            ]
          },
          "metadata": {
            "tags": []
          }
        },
        {
          "output_type": "display_data",
          "data": {
            "text/html": [
              "<div>\n",
              "<style scoped>\n",
              "    .dataframe tbody tr th:only-of-type {\n",
              "        vertical-align: middle;\n",
              "    }\n",
              "\n",
              "    .dataframe tbody tr th {\n",
              "        vertical-align: top;\n",
              "    }\n",
              "\n",
              "    .dataframe thead th {\n",
              "        text-align: right;\n",
              "    }\n",
              "</style>\n",
              "<table border=\"1\" class=\"dataframe\">\n",
              "  <thead>\n",
              "    <tr style=\"text-align: right;\">\n",
              "      <th></th>\n",
              "      <th>id</th>\n",
              "      <th>grp</th>\n",
              "    </tr>\n",
              "  </thead>\n",
              "  <tbody>\n",
              "    <tr>\n",
              "      <th>0</th>\n",
              "      <td>1206794</td>\n",
              "      <td>B</td>\n",
              "    </tr>\n",
              "    <tr>\n",
              "      <th>1</th>\n",
              "      <td>331024</td>\n",
              "      <td>B</td>\n",
              "    </tr>\n",
              "    <tr>\n",
              "      <th>2</th>\n",
              "      <td>1733498</td>\n",
              "      <td>A</td>\n",
              "    </tr>\n",
              "  </tbody>\n",
              "</table>\n",
              "</div>"
            ],
            "text/plain": [
              "        id grp\n",
              "0  1206794   B\n",
              "1   331024   B\n",
              "2  1733498   A"
            ]
          },
          "metadata": {
            "tags": []
          }
        },
        {
          "output_type": "display_data",
          "data": {
            "text/plain": [
              "'active_studs'"
            ]
          },
          "metadata": {
            "tags": []
          }
        },
        {
          "output_type": "display_data",
          "data": {
            "text/html": [
              "<div>\n",
              "<style scoped>\n",
              "    .dataframe tbody tr th:only-of-type {\n",
              "        vertical-align: middle;\n",
              "    }\n",
              "\n",
              "    .dataframe tbody tr th {\n",
              "        vertical-align: top;\n",
              "    }\n",
              "\n",
              "    .dataframe thead th {\n",
              "        text-align: right;\n",
              "    }\n",
              "</style>\n",
              "<table border=\"1\" class=\"dataframe\">\n",
              "  <thead>\n",
              "    <tr style=\"text-align: right;\">\n",
              "      <th></th>\n",
              "      <th>student_id</th>\n",
              "    </tr>\n",
              "  </thead>\n",
              "  <tbody>\n",
              "    <tr>\n",
              "      <th>0</th>\n",
              "      <td>581585</td>\n",
              "    </tr>\n",
              "    <tr>\n",
              "      <th>1</th>\n",
              "      <td>5723133</td>\n",
              "    </tr>\n",
              "    <tr>\n",
              "      <th>2</th>\n",
              "      <td>3276743</td>\n",
              "    </tr>\n",
              "  </tbody>\n",
              "</table>\n",
              "</div>"
            ],
            "text/plain": [
              "   student_id\n",
              "0      581585\n",
              "1     5723133\n",
              "2     3276743"
            ]
          },
          "metadata": {
            "tags": []
          }
        }
      ]
    },
    {
      "cell_type": "code",
      "metadata": {
        "id": "H_NCkF5ZAijX",
        "colab_type": "code",
        "outputId": "7c1564de-41c1-49bd-81c5-cf3920c7e022",
        "colab": {
          "base_uri": "https://localhost:8080/",
          "height": 490
        }
      },
      "source": [
        "def join_data(checks, groups, active_studs):\n",
        "    data = groups.set_index('id').join(active_studs['student_id'].value_counts().rename('active'))\n",
        "    data = data.join(checks.groupby('student_id')['rev'].agg(orders='count', rev='sum'))\n",
        "    return data.fillna(0)\n",
        "\n",
        "data = join_data(checks, groups, active_studs)\n",
        "data['users'] = 1\n",
        "display(data.groupby([data['users'], data['active'], data['orders']]).sum())\n",
        "plt.hist(data[data['rev'] > 0]['rev'], bins=50)\n",
        "plt.title('Rev per User');\n",
        "\n",
        "\n",
        "\n",
        "# Some inactive students have orders and revenue, which is not intuitive."
      ],
      "execution_count": 2,
      "outputs": [
        {
          "output_type": "display_data",
          "data": {
            "text/html": [
              "<div>\n",
              "<style scoped>\n",
              "    .dataframe tbody tr th:only-of-type {\n",
              "        vertical-align: middle;\n",
              "    }\n",
              "\n",
              "    .dataframe tbody tr th {\n",
              "        vertical-align: top;\n",
              "    }\n",
              "\n",
              "    .dataframe thead th {\n",
              "        text-align: right;\n",
              "    }\n",
              "</style>\n",
              "<table border=\"1\" class=\"dataframe\">\n",
              "  <thead>\n",
              "    <tr style=\"text-align: right;\">\n",
              "      <th></th>\n",
              "      <th></th>\n",
              "      <th></th>\n",
              "      <th>rev</th>\n",
              "    </tr>\n",
              "    <tr>\n",
              "      <th>users</th>\n",
              "      <th>active</th>\n",
              "      <th>orders</th>\n",
              "      <th></th>\n",
              "    </tr>\n",
              "  </thead>\n",
              "  <tbody>\n",
              "    <tr>\n",
              "      <th rowspan=\"4\" valign=\"top\">1</th>\n",
              "      <th rowspan=\"2\" valign=\"top\">0.0</th>\n",
              "      <th>0.0</th>\n",
              "      <td>0.0000</td>\n",
              "    </tr>\n",
              "    <tr>\n",
              "      <th>1.0</th>\n",
              "      <td>105532.0001</td>\n",
              "    </tr>\n",
              "    <tr>\n",
              "      <th rowspan=\"2\" valign=\"top\">1.0</th>\n",
              "      <th>0.0</th>\n",
              "      <td>0.0000</td>\n",
              "    </tr>\n",
              "    <tr>\n",
              "      <th>1.0</th>\n",
              "      <td>467794.0035</td>\n",
              "    </tr>\n",
              "  </tbody>\n",
              "</table>\n",
              "</div>"
            ],
            "text/plain": [
              "                             rev\n",
              "users active orders             \n",
              "1     0.0    0.0          0.0000\n",
              "             1.0     105532.0001\n",
              "      1.0    0.0          0.0000\n",
              "             1.0     467794.0035"
            ]
          },
          "metadata": {
            "tags": []
          }
        },
        {
          "output_type": "display_data",
          "data": {
            "image/png": "[encoded data removed]",
            "text/plain": [
              "<Figure size 432x288 with 1 Axes>"
            ]
          },
          "metadata": {
            "tags": []
          }
        }
      ]
    },
    {
      "cell_type": "markdown",
      "metadata": {
        "id": "q554MIDz3vAr",
        "colab_type": "text"
      },
      "source": [
        "# T-test\n",
        "\n",
        "(относительные метрики = test / control - 1, в скобках приведены 90% интервалы)\n",
        "\n",
        "* Статистически значимое увеличение количества __активных пользователей +8.5% (4% to 13%)__\n",
        "* Статистически значимое увеличение __среднего чека +29% (12% to 45%)__\n",
        "* Статистически значимое увеличение __средней выручки на пользователя +28% (3% to 53%)__\n",
        "* Не значимое уменьшение конверсии"
      ]
    },
    {
      "cell_type": "code",
      "metadata": {
        "id": "CSN10gNU3qVT",
        "colab_type": "code",
        "outputId": "44e9c46b-6f38-4c6c-fa99-f6da0a19dc2a",
        "colab": {
          "base_uri": "https://localhost:8080/",
          "height": 357
        }
      },
      "source": [
        "def _fmt(arr, fmt):\n",
        "    return np.array2string(arr, formatter={'float_kind': lambda x: f'{x:{fmt}}'})\n",
        "\n",
        "\n",
        "def _print(conf, pval, t, c, ci, fmt):\n",
        "    print(f'P val: {pval:.3f}, P ctrl: {c:{fmt}}, P test: {t:{fmt}}')\n",
        "    print(f'Abs diff, [{conf:.0%} interval]: {t - c:{fmt}}, {_fmt(ci, fmt)}') \n",
        "    print(f'Rel diff, [{conf:.0%} interval]: {t / c - 1:.2%}, {_fmt((c + ci) / c - 1, \".2%\")}') \n",
        "    return \n",
        "\n",
        "\n",
        "def _test(delta, se, alpha):\n",
        "    z = delta / se\n",
        "    pval = norm.sf(np.abs(z)) * 2\n",
        "    ci = delta + se * norm.ppf([alpha / 2, 1 - alpha / 2])\n",
        "    return z, pval, ci\n",
        "\n",
        "\n",
        "def prop_test(xt, xc, nt, nc, conf):\n",
        "    pt, pc = xt / nt, xc / nc\n",
        "    p = (xt + xc) / (nt + nc)\n",
        "    se = np.sqrt(p * (1 - p) * (1 / nt + 1 / nc))\n",
        "    z, pval, ci = _test(pt - pc, se, 1 - conf)\n",
        "    _print(conf, pval, pt, pc, ci, '.2%')\n",
        "    return pval\n",
        "\n",
        "\n",
        "def mean_test(mt, mc, st, sc, nt, nc, conf):\n",
        "    se = np.sqrt(st ** 2 / nt + sc ** 2 / nc)\n",
        "    z, pval, ci = _test(mt - mc, se, 1 - conf)\n",
        "    _print(conf, pval, mt, mc, ci, '.2f')\n",
        "    return pval\n",
        "\n",
        "def run_tests(prop_metrics, mean_metrics, data, conf):\n",
        "    for k, (x, n) in prop_metrics.items():\n",
        "        print('\\n', ' -' * 10, k, '- ' * 10)\n",
        "        df = data[data[n] > 0].groupby(['grp']).agg(['sum', 'std', 'mean'])\n",
        "        t, c = df.loc['B'], df.loc['A']\n",
        "        prop_test(t[(x, 'sum')], c[(x, 'sum')], t[(n, 'sum')], c[(n, 'sum')], conf)\n",
        "    for k, (x, n) in mean_metrics.items():\n",
        "        print('\\n', ' -' * 10, k, '- ' * 10)\n",
        "        df = data[data[n] > 0].groupby(['grp']).agg(['sum', 'std', 'mean'])\n",
        "        t, c = df.loc['B'], df.loc['A']\n",
        "        mean_test(t[(x, 'mean')], c[(x, 'mean')], t[(x, 'std')], c[(x, 'std')], t[(n, 'sum')], c[(n, 'sum')], conf)\n",
        "\n",
        "\n",
        "prop_metrics = {'active_pct': ['active', 'users'], 'cvr': ['orders', 'active']}\n",
        "mean_metrics = {'aov': ['rev', 'orders'], 'arpu': ['rev', 'users']}\n",
        "\n",
        "run_tests(prop_metrics, mean_metrics, data, conf=0.9)"
      ],
      "execution_count": 3,
      "outputs": [
        {
          "output_type": "stream",
          "text": [
            "\n",
            "  - - - - - - - - - - active_pct - - - - - - - - - - \n",
            "P val: 0.002, P ctrl: 10.47%, P test: 11.36%\n",
            "Abs diff, [90% interval]: 0.89%, [0.42% 1.37%]\n",
            "Rel diff, [90% interval]: 8.53%, [3.97% 13.09%]\n",
            "\n",
            "  - - - - - - - - - - cvr - - - - - - - - - - \n",
            "P val: 0.445, P ctrl: 5.07%, P test: 4.62%\n",
            "Abs diff, [90% interval]: -0.46%, [-1.44% 0.53%]\n",
            "Rel diff, [90% interval]: -8.99%, [-28.37% 10.39%]\n",
            "\n",
            "  - - - - - - - - - - aov - - - - - - - - - - \n",
            "P val: 0.004, P ctrl: 860.71, P test: 1108.82\n",
            "Abs diff, [90% interval]: 248.11, [105.77 390.46]\n",
            "Rel diff, [90% interval]: 28.83%, [12.29% 45.37%]\n",
            "\n",
            "  - - - - - - - - - - arpu - - - - - - - - - - \n",
            "P val: 0.063, P ctrl: 6.27, P test: 8.04\n",
            "Abs diff, [90% interval]: 1.77, [0.20 3.33]\n",
            "Rel diff, [90% interval]: 28.21%, [3.24% 53.18%]\n"
          ],
          "name": "stdout"
        }
      ]
    },
    {
      "cell_type": "markdown",
      "metadata": {
        "id": "VBMV9ogP3sN5",
        "colab_type": "text"
      },
      "source": [
        "# Bootstrap\n",
        "\n",
        "Из-за небольшого количества данных, метрики незначительно отличаются от t-testов.<br>\n",
        "На больших данных методы должны показывать одинаковые результаты."
      ]
    },
    {
      "cell_type": "code",
      "metadata": {
        "id": "T0YM3kjPhZCn",
        "colab_type": "code",
        "outputId": "87fb5a8a-380e-410a-de8b-5e7b8c45d35f",
        "colab": {
          "base_uri": "https://localhost:8080/",
          "height": 469
        }
      },
      "source": [
        "def bootstrap(data, n_bootstraps=10000, n_segments=1000):\n",
        "    data = data.copy()\n",
        "    data['segment_id'] = list(map(lambda x: hash(str(x)) % n_segments, data.index))\n",
        "    df = data.groupby(['segment_id', 'grp']).sum().unstack('grp')\n",
        "    df.columns = df.columns.map('_'.join)\n",
        "    bt = df.sample(n_bootstraps * n_segments, replace=True)\n",
        "    bt['bootstrap_id'] = list(range(n_bootstraps)) * n_segments\n",
        "    stats = bt.groupby('bootstrap_id').sum()\n",
        "    return stats \n",
        "\n",
        "\n",
        "def box(df, low, high):\n",
        "    data=df.stack().reset_index(1).rename(columns={0: 'change', 'level_1': 'metric'})\n",
        "    fig, ax = plt.subplots(1, 1, figsize=(15, 5))\n",
        "    sns.boxplot('change', 'metric', data=data, whis=[low * 100, high * 100])\n",
        "    ax.axvline(0, ls='--')\n",
        "\n",
        "\n",
        "def analyse(stats, low=0.05, high=0.95, test='B', control='A'):\n",
        "    df = stats.copy()\n",
        "    for g in (test, control):\n",
        "        df[f'active_pct_{g}'] = df[f'active_{g}'] / df[f'users_{g}'] # Convertion from Active to Order\n",
        "        df[f'cvr_{g}'] = df[f'orders_{g}'] / df[f'active_{g}'] # Convertion from Active to Order\n",
        "        df[f'aov_{g}'] = df[f'rev_{g}'] / df[f'orders_{g}'] # Average Order Value\n",
        "        df[f'arpu_{g}'] = df[f'rev_{g}'] / df[f'users_{g}'] # Average Reveue per User\n",
        "\n",
        "    metrics = ['active_pct', 'cvr', 'aov', 'arpu']\n",
        "    for metric in metrics:\n",
        "        df[metric] = df[f'{metric}_{test}'] / df[f'{metric}_{control}'] - 1 # Relative difference Test vs Control\n",
        "    \n",
        "    box(df[metrics], low, high)\n",
        "    summary = df[metrics].quantile([low, 0.5, high]).T\n",
        "    return summary\n",
        "    \n",
        "\n",
        "stats = bootstrap(data) \n",
        "summary = analyse(stats)\n",
        "summary.style.format('{:+.2%}')"
      ],
      "execution_count": 4,
      "outputs": [
        {
          "output_type": "execute_result",
          "data": {
            "text/html": [
              "<style  type=\"text/css\" >\n",
              "</style><table id=\"T_9bd6393c_37c7_11ea_9f5c_0242ac1c0002\" ><thead>    <tr>        <th class=\"blank level0\" ></th>        <th class=\"col_heading level0 col0\" >0.05</th>        <th class=\"col_heading level0 col1\" >0.5</th>        <th class=\"col_heading level0 col2\" >0.95</th>    </tr></thead><tbody>\n",
              "                <tr>\n",
              "                        <th id=\"T_9bd6393c_37c7_11ea_9f5c_0242ac1c0002level0_row0\" class=\"row_heading level0 row0\" >active_pct</th>\n",
              "                        <td id=\"T_9bd6393c_37c7_11ea_9f5c_0242ac1c0002row0_col0\" class=\"data row0 col0\" >+3.94%</td>\n",
              "                        <td id=\"T_9bd6393c_37c7_11ea_9f5c_0242ac1c0002row0_col1\" class=\"data row0 col1\" >+8.53%</td>\n",
              "                        <td id=\"T_9bd6393c_37c7_11ea_9f5c_0242ac1c0002row0_col2\" class=\"data row0 col2\" >+13.31%</td>\n",
              "            </tr>\n",
              "            <tr>\n",
              "                        <th id=\"T_9bd6393c_37c7_11ea_9f5c_0242ac1c0002level0_row1\" class=\"row_heading level0 row1\" >cvr</th>\n",
              "                        <td id=\"T_9bd6393c_37c7_11ea_9f5c_0242ac1c0002row1_col0\" class=\"data row1 col0\" >-22.56%</td>\n",
              "                        <td id=\"T_9bd6393c_37c7_11ea_9f5c_0242ac1c0002row1_col1\" class=\"data row1 col1\" >-8.25%</td>\n",
              "                        <td id=\"T_9bd6393c_37c7_11ea_9f5c_0242ac1c0002row1_col2\" class=\"data row1 col2\" >+9.73%</td>\n",
              "            </tr>\n",
              "            <tr>\n",
              "                        <th id=\"T_9bd6393c_37c7_11ea_9f5c_0242ac1c0002level0_row2\" class=\"row_heading level0 row2\" >aov</th>\n",
              "                        <td id=\"T_9bd6393c_37c7_11ea_9f5c_0242ac1c0002row2_col0\" class=\"data row2 col0\" >+10.15%</td>\n",
              "                        <td id=\"T_9bd6393c_37c7_11ea_9f5c_0242ac1c0002row2_col1\" class=\"data row2 col1\" >+29.34%</td>\n",
              "                        <td id=\"T_9bd6393c_37c7_11ea_9f5c_0242ac1c0002row2_col2\" class=\"data row2 col2\" >+52.25%</td>\n",
              "            </tr>\n",
              "            <tr>\n",
              "                        <th id=\"T_9bd6393c_37c7_11ea_9f5c_0242ac1c0002level0_row3\" class=\"row_heading level0 row3\" >arpu</th>\n",
              "                        <td id=\"T_9bd6393c_37c7_11ea_9f5c_0242ac1c0002row3_col0\" class=\"data row3 col0\" >+2.85%</td>\n",
              "                        <td id=\"T_9bd6393c_37c7_11ea_9f5c_0242ac1c0002row3_col1\" class=\"data row3 col1\" >+28.82%</td>\n",
              "                        <td id=\"T_9bd6393c_37c7_11ea_9f5c_0242ac1c0002row3_col2\" class=\"data row3 col2\" >+64.03%</td>\n",
              "            </tr>\n",
              "    </tbody></table>"
            ],
            "text/plain": [
              "<pandas.io.formats.style.Styler at 0x7f689091cac8>"
            ]
          },
          "metadata": {
            "tags": []
          },
          "execution_count": 4
        },
        {
          "output_type": "display_data",
          "data": {
            "image/png": "[encoded data removed]",
            "text/plain": [
              "<Figure size 1080x360 with 1 Axes>"
            ]
          },
          "metadata": {
            "tags": []
          }
        }
      ]
    },
    {
      "cell_type": "code",
      "metadata": {
        "id": "QbMkewD2o03q",
        "colab_type": "code",
        "colab": {}
      },
      "source": [
        ""
      ],
      "execution_count": 0,
      "outputs": []
    }
  ]
}